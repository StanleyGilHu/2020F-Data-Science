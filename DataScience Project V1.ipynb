{
 "cells": [
  {
   "cell_type": "code",
   "execution_count": null,
   "metadata": {},
   "outputs": [],
   "source": [
    "%matplotlib inline\n",
    "import pandas as pd\n",
    "import numpy as np\n",
    "import matplotlib\n",
    "import matplotlib.pyplot as plt\n",
    "import seaborn as sns\n",
    "from pandas.plotting import scatter_matrix \n",
    "\n",
    "adf = pd.read_csv('heartFailure.csv')\n",
    "\n",
    "print(adf.mean(axis=0))\n",
    "print(adf.max(axis=0))\n",
    "print(adf.min(axis=0))\n",
    "    \n",
    "for (columnName, columnData) in adf.iteritems(): \n",
    "    newadf=columnData\n",
    "    MinVal=100000000\n",
    "    MaxVal=-100000000\n",
    "    for items in columnData:\n",
    "        if(columnData[items]>MaxVal):\n",
    "            MaxVal=columnData[items]\n",
    "        if(columnData[items]<MinVal):\n",
    "            MinVal=columnData[items]    \n",
    "    Divisor=MaxVal-MinVal\n",
    "    for items in columnData:\n",
    "        newadf[items]=(columnData[items]-Minval)/Divisor\n",
    "    newadf.to_csv(\"HeartNormalized.csv\", index=False)\n",
    "    \n",
    "adf2= pd.read_csv('heartNormalized.csv')\n",
    "\n",
    "for columnName in adf:\n",
    "    print(np.average(adf[columnName]))\n",
    "    print(adf.max)\n",
    "    print(adf.min)"
   ]
  },
  {
   "cell_type": "code",
   "execution_count": null,
   "metadata": {},
   "outputs": [],
   "source": []
  },
  {
   "cell_type": "code",
   "execution_count": null,
   "metadata": {},
   "outputs": [],
   "source": []
  },
  {
   "cell_type": "code",
   "execution_count": null,
   "metadata": {},
   "outputs": [],
   "source": []
  }
 ],
 "metadata": {
  "kernelspec": {
   "display_name": "Python 3 (ipykernel)",
   "language": "python",
   "name": "python3"
  },
  "language_info": {
   "codemirror_mode": {
    "name": "ipython",
    "version": 3
   },
   "file_extension": ".py",
   "mimetype": "text/x-python",
   "name": "python",
   "nbconvert_exporter": "python",
   "pygments_lexer": "ipython3",
   "version": "3.9.7"
  }
 },
 "nbformat": 4,
 "nbformat_minor": 4
}
