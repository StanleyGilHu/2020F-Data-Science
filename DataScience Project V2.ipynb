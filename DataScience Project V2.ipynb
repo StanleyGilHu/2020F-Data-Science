{
 "cells": [
  {
   "cell_type": "code",
   "execution_count": 2,
   "metadata": {},
   "outputs": [
    {
     "name": "stdout",
     "output_type": "stream",
     "text": [
      "Column Means\n",
      "age                             60.833893\n",
      "anaemia                          0.431438\n",
      "creatinine_phosphokinase       581.839465\n",
      "diabetes                         0.418060\n",
      "ejection_fraction               38.083612\n",
      "high_blood_pressure              0.351171\n",
      "platelets                   263358.029264\n",
      "serum_creatinine                 1.393880\n",
      "serum_sodium                   136.625418\n",
      "sex                              0.648829\n",
      "smoking                          0.321070\n",
      "time                           130.260870\n",
      "DEATH_EVENT                      0.321070\n",
      "dtype: float64\n",
      "\n",
      "Column Maxes\n",
      "age                             95.0\n",
      "anaemia                          1.0\n",
      "creatinine_phosphokinase      7861.0\n",
      "diabetes                         1.0\n",
      "ejection_fraction               80.0\n",
      "high_blood_pressure              1.0\n",
      "platelets                   850000.0\n",
      "serum_creatinine                 9.4\n",
      "serum_sodium                   148.0\n",
      "sex                              1.0\n",
      "smoking                          1.0\n",
      "time                           285.0\n",
      "DEATH_EVENT                      1.0\n",
      "dtype: float64\n",
      "\n",
      "Column Mins\n",
      "age                            40.0\n",
      "anaemia                         0.0\n",
      "creatinine_phosphokinase       23.0\n",
      "diabetes                        0.0\n",
      "ejection_fraction              14.0\n",
      "high_blood_pressure             0.0\n",
      "platelets                   25100.0\n",
      "serum_creatinine                0.5\n",
      "serum_sodium                  113.0\n",
      "sex                             0.0\n",
      "smoking                         0.0\n",
      "time                            4.0\n",
      "DEATH_EVENT                     0.0\n",
      "dtype: float64\n"
     ]
    }
   ],
   "source": [
    "%matplotlib inline\n",
    "import pandas as pd\n",
    "import numpy as np\n",
    "import matplotlib\n",
    "import matplotlib.pyplot as plt\n",
    "import seaborn as sns\n",
    "from pandas.plotting import scatter_matrix \n",
    "\n",
    "adf = pd.read_csv('heartFailure.csv')\n",
    "\n",
    "print(\"Column Means\")\n",
    "print(adf.mean(axis=0))\n",
    "print(\"\")\n",
    "print(\"Column Maxes\")\n",
    "print(adf.max(axis=0))\n",
    "print(\"\")\n",
    "print(\"Column Mins\")\n",
    "print(adf.min(axis=0))"
   ]
  },
  {
   "cell_type": "code",
   "execution_count": null,
   "metadata": {},
   "outputs": [],
   "source": []
  }
 ],
 "metadata": {
  "kernelspec": {
   "display_name": "Python 3 (ipykernel)",
   "language": "python",
   "name": "python3"
  },
  "language_info": {
   "codemirror_mode": {
    "name": "ipython",
    "version": 3
   },
   "file_extension": ".py",
   "mimetype": "text/x-python",
   "name": "python",
   "nbconvert_exporter": "python",
   "pygments_lexer": "ipython3",
   "version": "3.9.7"
  }
 },
 "nbformat": 4,
 "nbformat_minor": 4
}
